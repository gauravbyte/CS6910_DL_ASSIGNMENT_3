{
 "metadata": {
  "kernelspec": {
   "language": "python",
   "display_name": "Python 3",
   "name": "python3"
  },
  "language_info": {
   "name": "python",
   "version": "3.7.12",
   "mimetype": "text/x-python",
   "codemirror_mode": {
    "name": "ipython",
    "version": 3
   },
   "pygments_lexer": "ipython3",
   "nbconvert_exporter": "python",
   "file_extension": ".py"
  }
 },
 "nbformat_minor": 4,
 "nbformat": 4,
 "cells": [
  {
   "cell_type": "code",
   "source": [
    "#  [code] {\"jupyter\":{\"outputs_hidden\":false}}"
   ],
   "metadata": {
    "_uuid": "58f02d03-d719-42a8-b2e1-f43562d8a6b4",
    "_cell_guid": "968fde9b-cc8a-4f15-b43f-425c0407d454",
    "collapsed": false,
    "jupyter": {
     "outputs_hidden": false
    },
    "execution": {
     "iopub.status.busy": "2023-05-02T12:55:24.977274Z",
     "iopub.execute_input": "2023-05-02T12:55:24.977777Z",
     "iopub.status.idle": "2023-05-02T12:55:24.983663Z",
     "shell.execute_reply.started": "2023-05-02T12:55:24.977731Z",
     "shell.execute_reply": "2023-05-02T12:55:24.982131Z"
    },
    "trusted": true,
    "ExecuteTime": {
     "end_time": "2023-05-02T16:22:11.699837700Z",
     "start_time": "2023-05-02T16:22:11.661433100Z"
    }
   },
   "execution_count": 1,
   "outputs": []
  },
  {
   "cell_type": "code",
   "source": [
    "# This Python 3 environment comes with many helpful analytics libraries installed\n",
    "# It is defined by the kaggle/python Docker image: https://github.com/kaggle/docker-python\n",
    "# For example, here's several helpful packages to load\n",
    "\n",
    "import numpy as np # linear algebra\n",
    "import pandas as pd # data processing, CSV file I/O (e.g. pd.read_csv)\n",
    "import random\n",
    "# Input data files are available in the read-only \"../input/\" directory\n",
    "# For example, running this (by clicking run or pressing Shift+Enter) will list all files under the input directory\n",
    "\n",
    "import os\n",
    "# for dirname, _, filenames in os.walk('/kaggle/input'):\n",
    "#     for filename in filenames:\n",
    "#         os.path.join(dirname, filename)\n",
    "\n",
    "        \n",
    "# You can write up to 20GB to the current directory (/kaggle/working/) that gets preserved as output when you create a version using \"Save & Run All\" \n",
    "# You can also write temporary files to /kaggle/temp/, but they won't be saved outside of the current session"
   ],
   "metadata": {
    "_uuid": "06c0242b-893a-4476-9192-ff5a5992226b",
    "_cell_guid": "a8a21111-7c1f-45ca-a80a-7ed914cba813",
    "collapsed": false,
    "jupyter": {
     "outputs_hidden": false
    },
    "execution": {
     "iopub.status.busy": "2023-05-02T12:55:24.985800Z",
     "iopub.execute_input": "2023-05-02T12:55:24.986326Z",
     "iopub.status.idle": "2023-05-02T12:55:25.027960Z",
     "shell.execute_reply.started": "2023-05-02T12:55:24.986295Z",
     "shell.execute_reply": "2023-05-02T12:55:25.027027Z"
    },
    "trusted": true,
    "ExecuteTime": {
     "end_time": "2023-05-02T16:22:15.495347500Z",
     "start_time": "2023-05-02T16:22:11.682762Z"
    }
   },
   "execution_count": 2,
   "outputs": []
  },
  {
   "cell_type": "markdown",
   "source": [
    "## Import data"
   ],
   "metadata": {
    "_uuid": "e6981786-f1ec-4f86-aaee-8eeb70f39e33",
    "_cell_guid": "da776bf1-b361-446d-9192-c8790e69dc5b",
    "trusted": true
   }
  },
  {
   "cell_type": "code",
   "source": [
    "import numpy as np # linear algebra\n",
    "import pandas as pd # data processing, CSV file I/O (e.g. pd.read_csv)\n",
    "import torch\n",
    "import torch.nn as nn\n",
    "import torch.optim as optim\n",
    "from torch.autograd import Variable\n",
    "import torch.nn.functional as F\n",
    "import numpy as np\n",
    "import pickle\n",
    "import torch\n",
    "from torch.utils.data import Dataset, DataLoader"
   ],
   "metadata": {
    "_uuid": "816ea9a5-d66e-4184-bd06-63565a5c877b",
    "_cell_guid": "8a976178-48d5-4975-8a09-1e8d388c1d1f",
    "collapsed": false,
    "jupyter": {
     "outputs_hidden": false
    },
    "execution": {
     "iopub.status.busy": "2023-05-02T12:55:25.029709Z",
     "iopub.execute_input": "2023-05-02T12:55:25.029972Z",
     "iopub.status.idle": "2023-05-02T12:55:25.036930Z",
     "shell.execute_reply.started": "2023-05-02T12:55:25.029945Z",
     "shell.execute_reply": "2023-05-02T12:55:25.035849Z"
    },
    "trusted": true,
    "ExecuteTime": {
     "end_time": "2023-05-02T16:23:09.488329800Z",
     "start_time": "2023-05-02T16:23:00.198239500Z"
    }
   },
   "execution_count": 3,
   "outputs": []
  },
  {
   "cell_type": "code",
   "source": [
    "# Instantiates the device to be used as GPU/CPU based on availability\n",
    "device = torch.device(\"cuda:0\" if torch.cuda.is_available() else \"cpu\")\n",
    "print(\"Executing on \" + (\"cuda:0\" if torch.cuda.is_available() else \"cpu\"))"
   ],
   "metadata": {
    "_uuid": "fa99b038-35bb-4c6b-b687-e35025ef433b",
    "_cell_guid": "bee05b18-19a1-4b97-8d8d-c11c1d4a650e",
    "collapsed": false,
    "jupyter": {
     "outputs_hidden": false
    },
    "execution": {
     "iopub.status.busy": "2023-05-02T12:55:25.038645Z",
     "iopub.execute_input": "2023-05-02T12:55:25.039311Z",
     "iopub.status.idle": "2023-05-02T12:55:25.053271Z",
     "shell.execute_reply.started": "2023-05-02T12:55:25.039269Z",
     "shell.execute_reply": "2023-05-02T12:55:25.051976Z"
    },
    "trusted": true,
    "ExecuteTime": {
     "end_time": "2023-05-02T16:23:09.510314600Z",
     "start_time": "2023-05-02T16:23:09.494154300Z"
    }
   },
   "execution_count": 4,
   "outputs": [
    {
     "name": "stdout",
     "output_type": "stream",
     "text": [
      "Executing on cpu\n"
     ]
    }
   ]
  },
  {
   "cell_type": "code",
   "source": [
    "df_train = pd.read_csv(\"Data/hin/hin_train.csv\")\n",
    "df_test = pd.read_csv('Data/hin/hin_test.csv')\n",
    "df_valid = pd.read_csv('Data/hin/hin_valid.csv')"
   ],
   "metadata": {
    "_uuid": "84df22fc-9f4a-4efb-9772-b293cbd7dff9",
    "_cell_guid": "c599adf9-b70a-4c20-896a-9e21a7d27833",
    "collapsed": false,
    "jupyter": {
     "outputs_hidden": false
    },
    "execution": {
     "iopub.status.busy": "2023-05-02T12:55:25.056028Z",
     "iopub.execute_input": "2023-05-02T12:55:25.057085Z",
     "iopub.status.idle": "2023-05-02T12:55:25.129925Z",
     "shell.execute_reply.started": "2023-05-02T12:55:25.057032Z",
     "shell.execute_reply": "2023-05-02T12:55:25.128859Z"
    },
    "trusted": true,
    "ExecuteTime": {
     "end_time": "2023-05-02T16:23:13.455403Z",
     "start_time": "2023-05-02T16:23:13.317318500Z"
    }
   },
   "execution_count": 5,
   "outputs": []
  },
  {
   "cell_type": "code",
   "source": [
    "df_train = df_train.iloc[:2000]\n",
    "df_test = df_test.iloc[:200]"
   ],
   "metadata": {
    "execution": {
     "iopub.status.busy": "2023-05-02T12:55:25.132091Z",
     "iopub.execute_input": "2023-05-02T12:55:25.132788Z",
     "iopub.status.idle": "2023-05-02T12:55:25.138604Z",
     "shell.execute_reply.started": "2023-05-02T12:55:25.132745Z",
     "shell.execute_reply": "2023-05-02T12:55:25.137534Z"
    },
    "trusted": true,
    "ExecuteTime": {
     "end_time": "2023-05-02T16:23:14.525064900Z",
     "start_time": "2023-05-02T16:23:14.477678100Z"
    }
   },
   "execution_count": 6,
   "outputs": []
  },
  {
   "cell_type": "code",
   "source": [],
   "metadata": {
    "_uuid": "84df22fc-9f4a-4efb-9772-b293cbd7dff9",
    "_cell_guid": "c599adf9-b70a-4c20-896a-9e21a7d27833",
    "collapsed": false,
    "jupyter": {
     "outputs_hidden": false
    },
    "execution": {
     "iopub.status.busy": "2023-05-02T12:55:25.165987Z",
     "iopub.execute_input": "2023-05-02T12:55:25.166482Z",
     "iopub.status.idle": "2023-05-02T12:55:25.222275Z",
     "shell.execute_reply.started": "2023-05-02T12:55:25.166354Z",
     "shell.execute_reply": "2023-05-02T12:55:25.220996Z"
    },
    "trusted": true,
    "ExecuteTime": {
     "end_time": "2023-05-02T16:23:15.085350700Z",
     "start_time": "2023-05-02T16:23:15.071216Z"
    }
   },
   "execution_count": 6,
   "outputs": []
  },
  {
   "cell_type": "code",
   "source": [
    "PAD_CHAR = '_'\n",
    "EOW_CHAR = '|'\n",
    "SOW_CHAR = '$'\n",
    "BATCH_SIZE = 3"
   ],
   "metadata": {
    "_uuid": "84df22fc-9f4a-4efb-9772-b293cbd7dff9",
    "_cell_guid": "c599adf9-b70a-4c20-896a-9e21a7d27833",
    "collapsed": false,
    "jupyter": {
     "outputs_hidden": false
    },
    "execution": {
     "iopub.status.busy": "2023-05-02T12:55:25.224557Z",
     "iopub.execute_input": "2023-05-02T12:55:25.225016Z",
     "iopub.status.idle": "2023-05-02T12:55:25.233931Z",
     "shell.execute_reply.started": "2023-05-02T12:55:25.224966Z",
     "shell.execute_reply": "2023-05-02T12:55:25.232710Z"
    },
    "trusted": true,
    "ExecuteTime": {
     "end_time": "2023-05-02T16:23:15.527698700Z",
     "start_time": "2023-05-02T16:23:15.483297Z"
    }
   },
   "execution_count": 7,
   "outputs": []
  },
  {
   "cell_type": "code",
   "source": [
    "eng_alphabets = [chr(alpha) for alpha in range(ord('a'), ord('z') + 1)]\n",
    "# eng_alpha2index = {pad_char:0}\n",
    "in_dict = {PAD_CHAR: 0, EOW_CHAR: 1, SOW_CHAR: 2}\n",
    "for index, alpha in enumerate(eng_alphabets):\n",
    "\tin_dict[alpha] = index + 3\n",
    "print(in_dict)\n"
   ],
   "metadata": {
    "_uuid": "84df22fc-9f4a-4efb-9772-b293cbd7dff9",
    "_cell_guid": "c599adf9-b70a-4c20-896a-9e21a7d27833",
    "collapsed": false,
    "jupyter": {
     "outputs_hidden": false
    },
    "execution": {
     "iopub.status.busy": "2023-05-02T12:55:25.235717Z",
     "iopub.execute_input": "2023-05-02T12:55:25.236182Z",
     "iopub.status.idle": "2023-05-02T12:55:25.246990Z",
     "shell.execute_reply.started": "2023-05-02T12:55:25.236128Z",
     "shell.execute_reply": "2023-05-02T12:55:25.245971Z"
    },
    "trusted": true,
    "ExecuteTime": {
     "end_time": "2023-05-02T16:23:15.985316Z",
     "start_time": "2023-05-02T16:23:15.857911700Z"
    }
   },
   "execution_count": 8,
   "outputs": [
    {
     "name": "stdout",
     "output_type": "stream",
     "text": [
      "{'_': 0, '|': 1, '$': 2, 'a': 3, 'b': 4, 'c': 5, 'd': 6, 'e': 7, 'f': 8, 'g': 9, 'h': 10, 'i': 11, 'j': 12, 'k': 13, 'l': 14, 'm': 15, 'n': 16, 'o': 17, 'p': 18, 'q': 19, 'r': 20, 's': 21, 't': 22, 'u': 23, 'v': 24, 'w': 25, 'x': 26, 'y': 27, 'z': 28}\n"
     ]
    }
   ]
  },
  {
   "cell_type": "code",
   "source": [
    "hindi_alphabets = [chr(alpha) for alpha in range(2304, 2432)]\n",
    "hindi_alphabet_size = len(hindi_alphabets)\n",
    "out_dict = {PAD_CHAR: 0, EOW_CHAR: 1, SOW_CHAR: 2}\n",
    "for index, alpha in enumerate(hindi_alphabets):\n",
    "\tout_dict[alpha] = index + 3"
   ],
   "metadata": {
    "_uuid": "84df22fc-9f4a-4efb-9772-b293cbd7dff9",
    "_cell_guid": "c599adf9-b70a-4c20-896a-9e21a7d27833",
    "collapsed": false,
    "jupyter": {
     "outputs_hidden": false
    },
    "execution": {
     "iopub.status.busy": "2023-05-02T12:55:25.248761Z",
     "iopub.execute_input": "2023-05-02T12:55:25.249127Z"
    },
    "trusted": true,
    "ExecuteTime": {
     "end_time": "2023-05-02T16:23:16.302483100Z",
     "start_time": "2023-05-02T16:23:16.090337100Z"
    }
   },
   "execution_count": 9,
   "outputs": []
  },
  {
   "cell_type": "code",
   "source": [
    "print(out_dict)\n",
    "print(len(out_dict))"
   ],
   "metadata": {
    "ExecuteTime": {
     "end_time": "2023-05-02T16:23:16.526101800Z",
     "start_time": "2023-05-02T16:23:16.346978400Z"
    }
   },
   "execution_count": 10,
   "outputs": [
    {
     "name": "stdout",
     "output_type": "stream",
     "text": [
      "{'_': 0, '|': 1, '$': 2, 'ऀ': 3, 'ँ': 4, 'ं': 5, 'ः': 6, 'ऄ': 7, 'अ': 8, 'आ': 9, 'इ': 10, 'ई': 11, 'उ': 12, 'ऊ': 13, 'ऋ': 14, 'ऌ': 15, 'ऍ': 16, 'ऎ': 17, 'ए': 18, 'ऐ': 19, 'ऑ': 20, 'ऒ': 21, 'ओ': 22, 'औ': 23, 'क': 24, 'ख': 25, 'ग': 26, 'घ': 27, 'ङ': 28, 'च': 29, 'छ': 30, 'ज': 31, 'झ': 32, 'ञ': 33, 'ट': 34, 'ठ': 35, 'ड': 36, 'ढ': 37, 'ण': 38, 'त': 39, 'थ': 40, 'द': 41, 'ध': 42, 'न': 43, 'ऩ': 44, 'प': 45, 'फ': 46, 'ब': 47, 'भ': 48, 'म': 49, 'य': 50, 'र': 51, 'ऱ': 52, 'ल': 53, 'ळ': 54, 'ऴ': 55, 'व': 56, 'श': 57, 'ष': 58, 'स': 59, 'ह': 60, 'ऺ': 61, 'ऻ': 62, '़': 63, 'ऽ': 64, 'ा': 65, 'ि': 66, 'ी': 67, 'ु': 68, 'ू': 69, 'ृ': 70, 'ॄ': 71, 'ॅ': 72, 'ॆ': 73, 'े': 74, 'ै': 75, 'ॉ': 76, 'ॊ': 77, 'ो': 78, 'ौ': 79, '्': 80, 'ॎ': 81, 'ॏ': 82, 'ॐ': 83, '॑': 84, '॒': 85, '॓': 86, '॔': 87, 'ॕ': 88, 'ॖ': 89, 'ॗ': 90, 'क़': 91, 'ख़': 92, 'ग़': 93, 'ज़': 94, 'ड़': 95, 'ढ़': 96, 'फ़': 97, 'य़': 98, 'ॠ': 99, 'ॡ': 100, 'ॢ': 101, 'ॣ': 102, '।': 103, '॥': 104, '०': 105, '१': 106, '२': 107, '३': 108, '४': 109, '५': 110, '६': 111, '७': 112, '८': 113, '९': 114, '॰': 115, 'ॱ': 116, 'ॲ': 117, 'ॳ': 118, 'ॴ': 119, 'ॵ': 120, 'ॶ': 121, 'ॷ': 122, 'ॸ': 123, 'ॹ': 124, 'ॺ': 125, 'ॻ': 126, 'ॼ': 127, 'ॽ': 128, 'ॾ': 129, 'ॿ': 130}\n",
      "131\n"
     ]
    }
   ]
  },
  {
   "cell_type": "code",
   "source": [
    "if df_train.iloc[0][0][0] != SOW_CHAR:\n",
    "\tdf_train = df_train.iloc[:, ].apply(lambda x: SOW_CHAR + x + EOW_CHAR)\n",
    "\tdf_test = df_test.iloc[:, ].apply(lambda x: SOW_CHAR + x + EOW_CHAR)\n",
    "\tdf_valid = df_valid.iloc[:, ].apply(lambda x: SOW_CHAR + x + EOW_CHAR)\n"
   ],
   "metadata": {
    "ExecuteTime": {
     "end_time": "2023-05-02T16:23:16.909417200Z",
     "start_time": "2023-05-02T16:23:16.481944200Z"
    }
   },
   "execution_count": 11,
   "outputs": []
  },
  {
   "cell_type": "code",
   "source": [
    "df_train = df_train.set_axis(['X', 'Y'], axis=1)\n",
    "df_valid = df_valid.set_axis(['X', 'Y'], axis=1)\n",
    "df_test = df_test.set_axis(['X', 'Y'], axis=1)"
   ],
   "metadata": {
    "ExecuteTime": {
     "end_time": "2023-05-02T16:23:16.935140300Z",
     "start_time": "2023-05-02T16:23:16.687495100Z"
    }
   },
   "execution_count": 12,
   "outputs": []
  },
  {
   "cell_type": "code",
   "source": [
    "print(df_train)\n",
    "print(df_test)\n",
    "print(df_valid)\n"
   ],
   "metadata": {
    "ExecuteTime": {
     "end_time": "2023-05-02T16:23:17.209565400Z",
     "start_time": "2023-05-02T16:23:16.895315200Z"
    }
   },
   "execution_count": 13,
   "outputs": [
    {
     "name": "stdout",
     "output_type": "stream",
     "text": [
      "                    X                  Y\n",
      "0           $bindhya|         $बिन्द्या|\n",
      "1         $kirankant|         $किरणकांत|\n",
      "2       $yagyopaveet|        $यज्ञोपवीत|\n",
      "3           $ratania|          $रटानिया|\n",
      "4        $vaganyache|        $वागण्याचे|\n",
      "...               ...                ...\n",
      "1995    $culmination|        $कल्मिनेशन|\n",
      "1996  $complimentary|  $कॉम्प्लीमेंट्री|\n",
      "1997      $chattoraj|         $चट्टोराज|\n",
      "1998     $kaareegaro|          $कारीगरो|\n",
      "1999    $rugnambabat|      $रुग्णांबाबत|\n",
      "\n",
      "[2000 rows x 2 columns]\n",
      "                  X              Y\n",
      "0       $sikhaaega|      $सिखाएगा|\n",
      "1           $learn|         $लर्न|\n",
      "2        $twitters|     $ट्विटर्स|\n",
      "3     $tirunelveli|  $तिरुनेलवेली|\n",
      "4    $independence|  $इंडिपेंडेंस|\n",
      "..              ...            ...\n",
      "195         $ochoa|         $ओकोआ|\n",
      "196       $science|        $साइंस|\n",
      "197     $sarkarein|      $सरकारें|\n",
      "198     $bremerton|      $ब्रेमटन|\n",
      "199      $gurupado|      $गुरुपदो|\n",
      "\n",
      "[200 rows x 2 columns]\n",
      "                  X              Y\n",
      "0           $bajai|         $बजाई|\n",
      "1       $sanghthan|        $संघठन|\n",
      "2         $haiwaan|        $हैवान|\n",
      "3         $nilgiri|      $नीलगिरि|\n",
      "4       $drutgrami|  $द्रुतग्रामी|\n",
      "...             ...            ...\n",
      "4090     $paranshu|       $परांशु|\n",
      "4091    $romanchit|     $रोमांचित|\n",
      "4092  $ekamreshwar|  $एकाम्रेश्वर|\n",
      "4093    $bluetooth|    $ब्ल्यूटूथ|\n",
      "4094    $govindram|   $गोविंद्राम|\n",
      "\n",
      "[4095 rows x 2 columns]\n"
     ]
    }
   ]
  },
  {
   "cell_type": "code",
   "source": [
    "max_input_length = max(df_train.iloc[:, 0].apply(lambda x: len(x)).max(),\n",
    "\t\t\t\t\t   df_test.iloc[:, 0].apply(lambda x: len(x)).max(),\n",
    "\t\t\t\t\t   df_valid.iloc[:, 0].apply(lambda x: len(x)).max())\n",
    "\n",
    "max_output_length = max(df_train.iloc[:, 1].apply(lambda x: len(x)).max(),\n",
    "\t\t\t\t\t\tdf_test.iloc[:, 1].apply(lambda x: len(x)).max(),\n",
    "\t\t\t\t\t\tdf_valid.iloc[:, 1].apply(lambda x: len(x)).max())\n",
    "\n",
    "print(\"max input length\", max_input_length)\n",
    "print(\"max output length\", max_output_length)\n",
    "MAX_LENGTH = max(max_input_length, max_output_length)\n",
    "print(\"max_length\", MAX_LENGTH)"
   ],
   "metadata": {
    "ExecuteTime": {
     "end_time": "2023-05-02T16:23:17.285222700Z",
     "start_time": "2023-05-02T16:23:17.027009Z"
    }
   },
   "execution_count": 14,
   "outputs": [
    {
     "name": "stdout",
     "output_type": "stream",
     "text": [
      "max input length 24\n",
      "max output length 22\n",
      "max_length 24\n"
     ]
    }
   ]
  },
  {
   "cell_type": "code",
   "execution_count": 15,
   "outputs": [
    {
     "name": "stdout",
     "output_type": "stream",
     "text": [
      "Input Character max 29\n",
      "output Character size 131\n"
     ]
    }
   ],
   "source": [
    "input_vocab_size = len(in_dict)\n",
    "output_vocab_size = len(out_dict)\n",
    "print(\"Input Character max\", input_vocab_size)\n",
    "print(\"output Character size\", output_vocab_size)\n",
    "\n",
    "train = df_train.values.tolist()\n",
    "valid = df_valid.values.tolist()\n",
    "test = df_test.values.tolist()\n"
   ],
   "metadata": {
    "collapsed": false,
    "ExecuteTime": {
     "end_time": "2023-05-02T16:23:17.476076900Z",
     "start_time": "2023-05-02T16:23:17.198703Z"
    }
   }
  },
  {
   "cell_type": "code",
   "execution_count": 16,
   "outputs": [
    {
     "name": "stdout",
     "output_type": "stream",
     "text": [
      "Input Character max 29\n",
      "output Character size 131\n"
     ]
    }
   ],
   "source": [
    "input_vocab_size = len(in_dict)\n",
    "output_vocab_size = len(out_dict)\n",
    "print(\"Input Character max\", input_vocab_size)\n",
    "print(\"output Character size\", output_vocab_size)\n",
    "\n",
    "train = df_train.values.tolist()\n",
    "valid = df_valid.values.tolist()\n",
    "test = df_test.values.tolist()"
   ],
   "metadata": {
    "collapsed": false,
    "ExecuteTime": {
     "end_time": "2023-05-02T16:23:17.632372300Z",
     "start_time": "2023-05-02T16:23:17.420741200Z"
    }
   }
  },
  {
   "cell_type": "markdown",
   "source": [],
   "metadata": {
    "collapsed": false
   }
  },
  {
   "cell_type": "code",
   "execution_count": 17,
   "outputs": [],
   "source": [
    "def inputToTensor(line):\n",
    "\t# print([in_dict[x] for x in line])\n",
    "\ttensor = torch.tensor(data=([in_dict[x] for x in line]), dtype=torch.long)\n",
    "\treturn tensor\n",
    "\n",
    "\n",
    "def charToTensor(char, dic=in_dict):\n",
    "\ttensor = torch.zeros(len(dic))\n",
    "\ttensor[dic[char]] = 1\n",
    "\treturn tensor\n",
    "\n",
    "\n",
    "def outToTensor(word):\n",
    "\ttensor = torch.tensor([out_dict[x] for x in word])\n",
    "\treturn tensor\n"
   ],
   "metadata": {
    "collapsed": false,
    "ExecuteTime": {
     "end_time": "2023-05-02T16:23:17.942638800Z",
     "start_time": "2023-05-02T16:23:17.772970700Z"
    }
   }
  },
  {
   "cell_type": "code",
   "execution_count": 18,
   "outputs": [
    {
     "name": "stdout",
     "output_type": "stream",
     "text": [
      "tensor([ 2,  4, 11, 16,  6, 10, 27,  3,  1])\n"
     ]
    }
   ],
   "source": [
    "print(inputToTensor(train[0][0]))"
   ],
   "metadata": {
    "collapsed": false,
    "ExecuteTime": {
     "end_time": "2023-05-02T16:23:18.132984400Z",
     "start_time": "2023-05-02T16:23:17.885483800Z"
    }
   }
  },
  {
   "cell_type": "code",
   "execution_count": 19,
   "outputs": [
    {
     "name": "stdout",
     "output_type": "stream",
     "text": [
      "$किरणकांत|\n"
     ]
    }
   ],
   "source": [
    "print(train[1][1])\n"
   ],
   "metadata": {
    "collapsed": false,
    "ExecuteTime": {
     "end_time": "2023-05-02T16:23:18.464456300Z",
     "start_time": "2023-05-02T16:23:18.360364800Z"
    }
   }
  },
  {
   "cell_type": "code",
   "execution_count": 20,
   "outputs": [
    {
     "data": {
      "text/plain": "tensor([ 2,  4, 11, 16,  6, 10, 27,  3,  1])"
     },
     "execution_count": 20,
     "metadata": {},
     "output_type": "execute_result"
    }
   ],
   "source": [
    "inputToTensor(\"$bindhya|\")"
   ],
   "metadata": {
    "collapsed": false,
    "ExecuteTime": {
     "end_time": "2023-05-02T16:23:18.876133900Z",
     "start_time": "2023-05-02T16:23:18.777879600Z"
    }
   }
  },
  {
   "cell_type": "code",
   "execution_count": 21,
   "outputs": [
    {
     "name": "stdout",
     "output_type": "stream",
     "text": [
      "{'_': 0, '|': 1, '$': 2, 'a': 3, 'b': 4, 'c': 5, 'd': 6, 'e': 7, 'f': 8, 'g': 9, 'h': 10, 'i': 11, 'j': 12, 'k': 13, 'l': 14, 'm': 15, 'n': 16, 'o': 17, 'p': 18, 'q': 19, 'r': 20, 's': 21, 't': 22, 'u': 23, 'v': 24, 'w': 25, 'x': 26, 'y': 27, 'z': 28}\n"
     ]
    }
   ],
   "source": [
    "print(in_dict)"
   ],
   "metadata": {
    "collapsed": false,
    "ExecuteTime": {
     "end_time": "2023-05-02T16:23:19.250100600Z",
     "start_time": "2023-05-02T16:23:19.108967700Z"
    }
   }
  },
  {
   "cell_type": "code",
   "execution_count": 22,
   "outputs": [
    {
     "name": "stdout",
     "output_type": "stream",
     "text": [
      "tensor([10,  7, 14, 14, 17])\n"
     ]
    }
   ],
   "source": [
    "print(inputToTensor(\"hello\"))\n"
   ],
   "metadata": {
    "collapsed": false,
    "ExecuteTime": {
     "end_time": "2023-05-02T16:23:19.569409800Z",
     "start_time": "2023-05-02T16:23:19.505704200Z"
    }
   }
  },
  {
   "cell_type": "code",
   "execution_count": null,
   "outputs": [],
   "source": [
    "def generate_batch(data_batch):\n",
    "\t#     print(data_batch)\n",
    "\ttensor_data = [inputToTensor(x[0].ljust(max_input_length, PAD_CHAR)) for x in data_batch]\n",
    "\ttensor_target = [outToTensor(x[1].ljust(max_output_length, PAD_CHAR)) for x in data_batch]\n",
    "\tpadded_input_batch = (torch.nn.utils.rnn.pad_sequence(tensor_data, batch_first=True, padding_value=1).T).to(device)\n",
    "\tpadded_output_batch = (torch.nn.utils.rnn.pad_sequence(tensor_target, batch_first=True, padding_value=1).T).to(device)\n",
    "\t#     print(tensor_data)\n",
    "\t#     print(padded_input_batch.shape)\n",
    "\t#     print(padded_output_batch.shape)\n",
    "\treturn padded_input_batch, padded_output_batch"
   ],
   "metadata": {
    "collapsed": false,
    "ExecuteTime": {
     "start_time": "2023-05-02T16:27:31.186074900Z"
    }
   }
  },
  {
   "cell_type": "code",
   "execution_count": null,
   "outputs": [],
   "source": [
    "train_dataloader = DataLoader(train, batch_size=BATCH_SIZE, shuffle=True, collate_fn=generate_batch)\n",
    "test_dataloader = DataLoader(test, batch_size=BATCH_SIZE, shuffle=False, collate_fn=generate_batch)\n",
    "valid_dataloader = DataLoader(test, batch_size=BATCH_SIZE, shuffle=False, collate_fn=generate_batch)\n"
   ],
   "metadata": {
    "collapsed": false,
    "ExecuteTime": {
     "start_time": "2023-05-02T16:27:31.194597100Z"
    }
   }
  },
  {
   "cell_type": "code",
   "execution_count": null,
   "outputs": [],
   "source": [
    "\n",
    "for data,target in train_dataloader:\n",
    "    # print(data)\n",
    "    # print(target)\n",
    "    print(data.shape)\n",
    "    print(target.shape)\n",
    "    if True:\n",
    "        break"
   ],
   "metadata": {
    "collapsed": false,
    "ExecuteTime": {
     "start_time": "2023-05-02T16:27:31.199656900Z"
    }
   }
  },
  {
   "cell_type": "code",
   "execution_count": 26,
   "outputs": [],
   "source": [
    "class Encoder(nn.Module):\n",
    "    def __init__(self, input_dim, emb_dim, hid_dim, n_layers, dropout):\n",
    "        super().__init__()\n",
    "\n",
    "        self.hid_dim = hid_dim\n",
    "        self.n_layers = n_layers\n",
    "\n",
    "        self.embedding = nn.Embedding(input_dim, emb_dim)\n",
    "\n",
    "        self.rnn = nn.LSTM(emb_dim, hid_dim, n_layers, dropout = dropout)\n",
    "\n",
    "        self.dropout = nn.Dropout(dropout)\n",
    "\n",
    "    def forward(self, src):\n",
    "        #src = [src len, batch size]\n",
    "        # print(\"encoder forward prop\")\n",
    "\n",
    "        embedded = self.dropout(self.embedding(src))\n",
    "        # embedded = embedded.permute(1,0,2)\n",
    "        # print(\"encoder embedded shape\", embedded.shape)\n",
    "        #embedded = [src len, batch size, emb dim]\n",
    "        outputs, (hidden, cell) = self.rnn(embedded)\n",
    "        # print(\"encoder hidden dimension\", hidden.shape)\n",
    "        # print(\"encoder output dimension\", outputs.shape)\n",
    "        # print(\"encoder cell dimension\", cell.shape)\n",
    "        #outputs = [src len, batch size, hid dim * n directions]\n",
    "        #hidden = [n layers * n directions, batch size, hid dim]\n",
    "        #cell = [n layers * n directions, batch size, hid dim]\n",
    "        #outputs are always from the top hidden layer\n",
    "        return hidden, cell"
   ],
   "metadata": {
    "collapsed": false,
    "ExecuteTime": {
     "end_time": "2023-05-02T16:23:20.888312500Z",
     "start_time": "2023-05-02T16:23:20.795355700Z"
    }
   }
  },
  {
   "cell_type": "code",
   "execution_count": 27,
   "outputs": [],
   "source": [
    "class Decoder(nn.Module):\n",
    "    def __init__(self, output_dim, emb_dim, hid_dim, n_layers, dropout):\n",
    "        super().__init__()\n",
    "\n",
    "        self.output_dim = output_dim\n",
    "        self.hid_dim = hid_dim\n",
    "        self.n_layers = n_layers\n",
    "\n",
    "        self.embedding = nn.Embedding(output_dim, emb_dim)\n",
    "\n",
    "        self.rnn = nn.LSTM(emb_dim, hid_dim, n_layers, dropout = dropout)\n",
    "\n",
    "        self.fc_out = nn.Linear(hid_dim, output_dim)\n",
    "\n",
    "        self.dropout = nn.Dropout(dropout)\n",
    "\n",
    "    def forward(self, input, hidden, cell):\n",
    "\n",
    "        #input = [batch size]\n",
    "        #hidden = [n layers * n directions, batch size, hid dim]\n",
    "        #cell = [n layers * n directions, batch size, hid dim]\n",
    "\n",
    "        #n directions in the decoder will both always be 1, therefore:\n",
    "        #hidden = [n layers, batch size, hid dim]\n",
    "        #context = [n layers, batch size, hid dim]\n",
    "        # print(\"decoder hidden shape\", hidden.shape)\n",
    "        # print(\"decoder context shape\", cell.shape)\n",
    "        input = input.unsqueeze(0)\n",
    "\n",
    "        #input = [1, batch size]\n",
    "\n",
    "        embedded = self.dropout(self.embedding(input))\n",
    "        # print(\"decoder embedded shape\", embedded.shape)\n",
    "        #embedded = [1, batch size, emb dim]\n",
    "\n",
    "        output, (hidden, cell) = self.rnn(embedded, (hidden, cell))\n",
    "        # print(\"decoder output shape\", output.shape)\n",
    "        # print(\"decoder hidden shape\", hidden.shape)\n",
    "        # print(\"decoder context shape\", cell.shape)\n",
    "        #output = [seq len, batch size, hid dim * n directions]\n",
    "        #hidden = [n layers * n directions, batch size, hid dim]\n",
    "        #cell = [n layers * n directions, batch size, hid dim]\n",
    "\n",
    "        #seq len and n directions will always be 1 in the decoder, therefore:\n",
    "        #output = [1, batch size, hid dim]\n",
    "        #hidden = [n layers, batch size, hid dim]\n",
    "        #cell = [n layers, batch size, hid dim]\n",
    "\n",
    "        prediction = self.fc_out(output.squeeze(0))\n",
    "\n",
    "        #prediction = [batch size, output dim]\n",
    "        # print(\"decoder prediction shape\", prediction.shape)\n",
    "        return prediction, hidden, cell"
   ],
   "metadata": {
    "collapsed": false,
    "ExecuteTime": {
     "end_time": "2023-05-02T16:23:21.455365Z",
     "start_time": "2023-05-02T16:23:21.196129500Z"
    }
   }
  },
  {
   "cell_type": "code",
   "execution_count": 28,
   "outputs": [],
   "source": [
    "class Seq2Seq(nn.Module):\n",
    "    def __init__(self, encoder, decoder, device):\n",
    "        super().__init__()\n",
    "\n",
    "        self.encoder = encoder\n",
    "        self.decoder = decoder\n",
    "        self.device = device\n",
    "\n",
    "        assert encoder.hid_dim == decoder.hid_dim, \\\n",
    "            \"Hidden dimensions of encoder and decoder must be equal!\"\n",
    "        assert encoder.n_layers == decoder.n_layers, \\\n",
    "            \"Encoder and decoder must have equal number of layers!\"\n",
    "\n",
    "    def forward(self, src, trg, teacher_forcing_ratio = 0.5):\n",
    "        # src = src.permute(1,0)\n",
    "        # trg = trg.permute(1,0)\n",
    "        #src = [src len, batch size]\n",
    "        #trg = [trg len, batch size]\n",
    "        #teacher_forcing_ratio is probability to use teacher forcing\n",
    "        #e.g. if teacher_forcing_ratio is 0.75 we use ground-truth inputs 75% of the time\n",
    "        # print(\"seq2seq forward prop src shape\", src.shape)\n",
    "        # print(\"seq2seq forward prop trg shape\", trg.shape)\n",
    "        batch_size = trg.shape[1]\n",
    "        trg_len = trg.shape[0]\n",
    "\n",
    "        trg_vocab_size = self.decoder.output_dim\n",
    "        # print(\"seq2seq trg vocab size\", trg_vocab_size)\n",
    "        # print(\"seq2seq batch size\", batch_size)\n",
    "        # print(\"seq2seq trg len\", trg_len)\n",
    "        #tensor to store decoder outputs\n",
    "        outputs = torch.zeros(trg_len, batch_size, trg_vocab_size).to(self.device)\n",
    "\n",
    "        #last hidden state of the encoder is used as the initial hidden state of the decoder\n",
    "        hidden, cell = self.encoder(src)\n",
    "        # print(\"seq2seq hidden shape\", hidden.shape)\n",
    "        # print(\"seq2seq cell shape\", cell.shape)\n",
    "        #first input to the decoder is the <sos> tokens\n",
    "        input = trg[0,:]\n",
    "        # print(\"first input to decoder\", input)\n",
    "        for t in range(1, trg_len):\n",
    "\t\t\t            #insert input token embedding, previous hidden and previous cell states\n",
    "            #receive output tensor (predictions) and new hidden and cell states\n",
    "            output, hidden, cell = self.decoder(input, hidden, cell)\n",
    "\n",
    "            #place predictions in a tensor holding predictions for each token\n",
    "            outputs[t] = output\n",
    "\n",
    "            #decide if we are going to use teacher forcing or not\n",
    "            teacher_force = random.random() < teacher_forcing_ratio\n",
    "\n",
    "            #get the highest predicted token from our predictions\n",
    "            top1 = output.argmax(1)\n",
    "\n",
    "            #if teacher forcing, use actual next token as next input\n",
    "            #if not, use predicted token\n",
    "            input = trg[t] if teacher_force else top1\n",
    "\n",
    "        return outputs"
   ],
   "metadata": {
    "collapsed": false,
    "ExecuteTime": {
     "end_time": "2023-05-02T16:23:21.947634500Z",
     "start_time": "2023-05-02T16:23:21.676136200Z"
    }
   }
  },
  {
   "cell_type": "code",
   "execution_count": 29,
   "outputs": [],
   "source": [
    "INPUT_DIM = input_vocab_size\n",
    "OUTPUT_DIM = output_vocab_size\n",
    "ENC_EMB_DIM = 256\n",
    "DEC_EMB_DIM = 256\n",
    "HID_DIM = 512\n",
    "N_LAYERS = 2\n",
    "ENC_DROPOUT = 0.5\n",
    "DEC_DROPOUT = 0.5"
   ],
   "metadata": {
    "collapsed": false,
    "ExecuteTime": {
     "end_time": "2023-05-02T16:23:22.106556200Z",
     "start_time": "2023-05-02T16:23:21.947634500Z"
    }
   }
  },
  {
   "cell_type": "code",
   "execution_count": 30,
   "outputs": [],
   "source": [
    "enc = Encoder(INPUT_DIM, ENC_EMB_DIM, HID_DIM, N_LAYERS, ENC_DROPOUT)\n",
    "dec = Decoder(OUTPUT_DIM, DEC_EMB_DIM, HID_DIM, N_LAYERS, DEC_DROPOUT)"
   ],
   "metadata": {
    "collapsed": false,
    "ExecuteTime": {
     "end_time": "2023-05-02T16:23:22.793878600Z",
     "start_time": "2023-05-02T16:23:22.429408300Z"
    }
   }
  },
  {
   "cell_type": "code",
   "execution_count": 31,
   "outputs": [],
   "source": [
    "model = Seq2Seq(enc, dec, device).to(device)"
   ],
   "metadata": {
    "collapsed": false,
    "ExecuteTime": {
     "end_time": "2023-05-02T16:23:22.825528Z",
     "start_time": "2023-05-02T16:23:22.685286900Z"
    }
   }
  },
  {
   "cell_type": "code",
   "execution_count": 32,
   "outputs": [
    {
     "data": {
      "text/plain": "Seq2Seq(\n  (encoder): Encoder(\n    (embedding): Embedding(29, 256)\n    (rnn): LSTM(256, 512, num_layers=2, dropout=0.5)\n    (dropout): Dropout(p=0.5, inplace=False)\n  )\n  (decoder): Decoder(\n    (embedding): Embedding(131, 256)\n    (rnn): LSTM(256, 512, num_layers=2, dropout=0.5)\n    (fc_out): Linear(in_features=512, out_features=131, bias=True)\n    (dropout): Dropout(p=0.5, inplace=False)\n  )\n)"
     },
     "execution_count": 32,
     "metadata": {},
     "output_type": "execute_result"
    }
   ],
   "source": [
    "def init_weights(m):\n",
    "    for name, param in m.named_parameters():\n",
    "        nn.init.uniform_(param.data, -0.08, 0.08)\n",
    "\n",
    "model.apply(init_weights)"
   ],
   "metadata": {
    "collapsed": false,
    "ExecuteTime": {
     "end_time": "2023-05-02T16:23:23.366692500Z",
     "start_time": "2023-05-02T16:23:22.887660Z"
    }
   }
  },
  {
   "cell_type": "code",
   "execution_count": 33,
   "outputs": [],
   "source": [
    "optimizer = optim.Adam(model.parameters())"
   ],
   "metadata": {
    "collapsed": false,
    "ExecuteTime": {
     "end_time": "2023-05-02T16:23:23.370638100Z",
     "start_time": "2023-05-02T16:23:23.280452600Z"
    }
   }
  },
  {
   "cell_type": "code",
   "execution_count": 34,
   "outputs": [],
   "source": [
    "# TRG_PAD_IDX = TRG.vocab.stoi[TRG.pad_token]\n",
    "\n",
    "criterion = nn.CrossEntropyLoss()"
   ],
   "metadata": {
    "collapsed": false,
    "ExecuteTime": {
     "end_time": "2023-05-02T16:23:23.510162300Z",
     "start_time": "2023-05-02T16:23:23.311727600Z"
    }
   }
  },
  {
   "cell_type": "code",
   "execution_count": 35,
   "outputs": [],
   "source": [
    "def train(model, iterator, optimizer, criterion, clip):\n",
    "\n",
    "    model.train()\n",
    "\n",
    "    epoch_loss = 0\n",
    "\n",
    "    for i, (data, target) in enumerate(iterator):\n",
    "        # if(i == 2):\n",
    "        #     break\n",
    "        src = data\n",
    "        trg = target\n",
    "\n",
    "        optimizer.zero_grad()\n",
    "        # print(\"train target shape\", trg.shape)\n",
    "        output = model(src, trg)\n",
    "\n",
    "        #trg = [trg len, batch size]\n",
    "        #output = [trg len, batch size, output dim]\n",
    "        # trg = trg.permute(1,0)\n",
    "        # output = output.permute(1,0, 2)\n",
    "        # print(\"train target shape\", trg.shape)\n",
    "        # print(\"train output shape\", output.shape)\n",
    "        output_dim = output.shape[-1]\n",
    "        output = output[1:].reshape(-1, output_dim)\n",
    "        trg = trg[1:].reshape(-1)\n",
    "        # print(\"target shape\", trg.shape)\n",
    "        # print(\"output shape\", output.shape)\n",
    "        #trg = [(trg len - 1) * batch size]\n",
    "        #output = [(trg len - 1) * batch size, output dim]\n",
    "\n",
    "        loss = criterion(output, trg)\n",
    "\n",
    "        loss.backward()\n",
    "\n",
    "        # torch.nn.utils.clip_grad_norm_(model.parameters(), clip)\n",
    "        #\n",
    "        optimizer.step()\n",
    "        #\n",
    "        ls = loss.item()\n",
    "        epoch_loss += ls\n",
    "#         print(ls)\n",
    "    return epoch_loss / len(iterator)"
   ],
   "metadata": {
    "collapsed": false,
    "ExecuteTime": {
     "end_time": "2023-05-02T16:23:23.747105700Z",
     "start_time": "2023-05-02T16:23:23.605107300Z"
    }
   }
  },
  {
   "cell_type": "code",
   "execution_count": 36,
   "outputs": [
    {
     "name": "stderr",
     "output_type": "stream",
     "text": [
      "\n",
      "KeyboardInterrupt\n",
      "\n"
     ]
    }
   ],
   "source": [
    "N_EPOCHS = 10\n",
    "CLIP = 1\n",
    "\n",
    "best_valid_loss = float('inf')\n",
    "\n",
    "for epoch in range(N_EPOCHS):\n",
    "\n",
    "    # start_time = time.time()\n",
    "    train_loss = train(model, train_dataloader, optimizer, criterion, CLIP)\n",
    "    print(train_loss)\n",
    "    # valid_loss = evaluate(model, valid_iterator, criterion)"
   ],
   "metadata": {
    "collapsed": false,
    "ExecuteTime": {
     "end_time": "2023-05-02T16:27:31.200765300Z",
     "start_time": "2023-05-02T16:23:24.042019900Z"
    }
   }
  },
  {
   "cell_type": "code",
   "execution_count": null,
   "outputs": [],
   "source": [],
   "metadata": {
    "collapsed": false,
    "ExecuteTime": {
     "start_time": "2023-05-02T16:27:31.186074900Z"
    }
   }
  },
  {
   "cell_type": "code",
   "execution_count": null,
   "outputs": [],
   "source": [],
   "metadata": {
    "collapsed": false,
    "ExecuteTime": {
     "start_time": "2023-05-02T16:27:31.186074900Z"
    }
   }
  },
  {
   "cell_type": "code",
   "execution_count": null,
   "outputs": [],
   "source": [],
   "metadata": {
    "collapsed": false
   }
  },
  {
   "cell_type": "code",
   "execution_count": null,
   "outputs": [],
   "source": [],
   "metadata": {
    "collapsed": false
   }
  },
  {
   "cell_type": "code",
   "execution_count": null,
   "outputs": [],
   "source": [],
   "metadata": {
    "collapsed": false
   }
  }
 ]
}
